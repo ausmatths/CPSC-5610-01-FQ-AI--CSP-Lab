{
 "cells": [
  {
   "cell_type": "code",
   "execution_count": 3,
   "id": "5e682821",
   "metadata": {},
   "outputs": [],
   "source": [
    "import unittest\n",
    "\n",
    "class TestJobShop(unittest.TestCase):\n",
    "    def test_original(self):\n",
    "        s = solve_job_shop(jobs, task_types )\n",
    "        self.assertEqual(set(s.keys()), set(['painting2', 'polishing1', 'drilling2', 'drilling1']))\n",
    "        self.assertTrue(max(s.values()) == 1)\n",
    "    def test_sequential(self):\n",
    "        s = solve_job_shop({'job1': ['t1', 't2', 't3', 't4']}, {'t1': None, 't2': None, 't3': None, 't4': None})\n",
    "        self.assertEqual(set(s.keys()), set(['t1', 't2', 't3', 't4']))\n",
    "        self.assertEqual(set(s.values()), set([0,1,2,3]))\n",
    "    def test_unconstrained(self):\n",
    "        s = solve_job_shop({'j1': ['t1'], 'j2': ['t2']}, {'t1': None, 't2': None})\n",
    "        self.assertEqual(set(s.keys()), set(['t1', 't2']))\n",
    "        self.assertEqual(set(s.values()), set([0]))\n",
    "    def test_constrained_painting(self):\n",
    "        s = solve_job_shop({'j1': ['t1'], 'j2': ['t2']}, {'t1': 'painting', 't2': 'painting'})\n",
    "        self.assertEqual(set(s.keys()), set(['t1', 't2']))\n",
    "        self.assertEqual(set(s.values()), set([0,1]))\n",
    "    def test_drilling_before_painting(self):\n",
    "        s = solve_job_shop({'j1': ['t1', 't2']}, {'t1': 'drilling', 't2': 'painting'})\n",
    "        self.assertEqual(s, {'t1': 1, 't2': 0})\n",
    "    def test_constrained_painting_polishing(self):\n",
    "        s = solve_job_shop({'j1': ['t1'], 'j2': ['t2']}, {'t1': 'painting', 't2': 'polishing'})\n",
    "        self.assertEqual(set(s.keys()), set(['t1', 't2']))\n",
    "        self.assertEqual(set(s.values()), set([0,1]))\n",
    "    def test_unconstrained_drilling(self):\n",
    "        s = solve_job_shop({'j1': ['t1'], 'j2': ['t2']}, {'t1': 'drilling', 't2': 'drilling'})\n",
    "        self.assertEqual(set(s.keys()), set(['t1', 't2']))\n",
    "        self.assertEqual(set(s.values()), set([0]))\n",
    "    def test_two_drilling(self):\n",
    "        s = solve_job_shop({'j1': ['t1'], 'j2': ['t2'], 'j3': ['t3']}, {'t1': 'drilling', 't2': 'drilling', 't3': 'drilling'})\n",
    "        self.assertIn(list(s.values()), [[0,0,1], [0,1,0], [0,1,1], [1,0,0], [1, 0, 1], [1,1,0]])\n",
    "    def test_no_jobs(self):\n",
    "        s = print(solve_job_shop({}, {}))\n",
    "        self.assertEqual(s, None)\n",
    "    def test_no_tasks(self):\n",
    "        s = solve_job_shop({'j1': ['t1'], 'j2': []}, {'t1': 'drilling'})\n",
    "        self.assertEqual(s, {'t1': 0})\n",
    "    def test_no_task_types(self):\n",
    "        s= solve_job_shop({'j1': ['t1', 't2']}, {})\n",
    "        self.assertIn(s, [{'t1': 1, 't2': 0}, {'t1': 0, 't2': 1}])\n",
    "        \n",
    "def test_job_shop():\n",
    "     unittest.main(argv=[''], verbosity=2, exit=False)\n",
    "        \n",
    "test_job_shop()"
   ]
  }
 ],
 "metadata": {
  "kernelspec": {
   "display_name": "Python 3 (ipykernel)",
   "language": "python",
   "name": "python3"
  },
  "language_info": {
   "codemirror_mode": {
    "name": "ipython",
    "version": 3
   },
   "file_extension": ".py",
   "mimetype": "text/x-python",
   "name": "python",
   "nbconvert_exporter": "python",
   "pygments_lexer": "ipython3",
   "version": "3.9.12"
  }
 },
 "nbformat": 4,
 "nbformat_minor": 5
}
