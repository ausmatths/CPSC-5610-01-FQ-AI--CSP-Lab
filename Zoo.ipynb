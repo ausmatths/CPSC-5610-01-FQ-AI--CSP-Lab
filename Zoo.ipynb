{
 "cells": [
  {
   "cell_type": "markdown",
   "metadata": {},
   "source": [
    "### Zoo by Constraint Sovling\n",
    "\n",
    "#### The Zoo in Killian Court\n",
    "\n",
    "(This is from an old MIT problem set.)\n",
    "\n",
    "MIT has decided to open a new zoo in Killian Court. They have obtained seven\n",
    "animals and built four enclosures. Because there are more animals than enclosures, some animals\n",
    "have to be in the same enclosures as others. However, the animals are very picky about who they live\n",
    "with. The MIT administration is having trouble assigning animals to enclosures, just as they often have\n",
    "trouble assigning students to residences. They have asked you to plan where\n",
    "each animal goes.\n",
    "\n",
    "The animals chosen are a LION, ANTELOPE, HYENA, EVIL LION, HORNBILL, MEERKAT, and BOAR.\n",
    "\n",
    "![Zoo](zoo.GIF)\n",
    "\n",
    "Each numbered area is a zoo enclosure. Multiple animals can go into the same enclosure, and not all\n",
    "enclosures have to be filled.\n",
    "\n",
    "Each animal has restrictions about where it can be placed.\n",
    "\n",
    "1. The LION and the EVIL LION hate each other, and do not want to be in the same enclosure.\n",
    "1. The MEERKAT and BOAR are best friends, and have to be in the same enclosure.\n",
    "1. The HYENA smells bad. Only the EVIL LION will share his enclosure.\n",
    "1. The EVIL LION wants to eat the MEERKAT, BOAR, and HORNBILL.\n",
    "1. The LION and the EVIL LION want to eat the ANTELOPE so badly that the ANTELOPE cannot be\n",
    "in either the same enclosure or in an enclosure adjacent to the LION or EVIL LION.\n",
    "1. The LION annoys the HORNBILL, so the HORNBILL doesn't want to be in the LION's enclosure.\n",
    "1. The LION is king, so he wants to be in enclosure 1."
   ]
  },
  {
   "cell_type": "code",
   "execution_count": 3,
   "metadata": {
    "ExecuteTime": {
     "end_time": "2024-10-12T03:21:10.875183Z",
     "start_time": "2024-10-12T03:21:10.872374Z"
    }
   },
   "outputs": [],
   "source": [
    "## Write the function solve_zoo() which returns a list of all solutions to the problem,\n",
    "## where a solution is a dictionary as returned by problem.getSolution()\n",
    "\n",
    "## You must use these animal names\n",
    "animals = [\"Lion\", \"Antelope\", \"Hyena\", \"EvilLion\", \"Hornbill\", \"Meerkat\", \"Boar\"]\n",
    "\n",
    "def solve_zoo():\n",
    "    raise(Exception(\"Not implemented\"))"
   ]
  },
  {
   "cell_type": "code",
   "execution_count": 4,
   "metadata": {
    "ExecuteTime": {
     "end_time": "2024-10-12T03:21:12.588327Z",
     "start_time": "2024-10-12T03:21:12.580239Z"
    }
   },
   "outputs": [],
   "source": [
    "## Write a function where_can_i_put(animal) which returns a list of enclosure numbers -- \n",
    "## all enclosures the animal can be put in, in any valid assignment.  The list returned\n",
    "## must be sorted, and must have no duplicates.  The function must throw an exception\n",
    "## if the input is not a valid animal name.\n",
    "\n",
    "## For example, \n",
    "##   print(where_can_i_put(\"Lion\"))\n",
    "##      [1]\n",
    "\n",
    "def where_can_i_put(animal):\n",
    "    raise(Exception(\"Not implemented\"))\n"
   ]
  },
  {
   "cell_type": "code",
   "execution_count": null,
   "metadata": {},
   "outputs": [],
   "source": []
  }
 ],
 "metadata": {
  "kernelspec": {
   "display_name": "Python 3 (ipykernel)",
   "language": "python",
   "name": "python3"
  },
  "language_info": {
   "codemirror_mode": {
    "name": "ipython",
    "version": 3
   },
   "file_extension": ".py",
   "mimetype": "text/x-python",
   "name": "python",
   "nbconvert_exporter": "python",
   "pygments_lexer": "ipython3",
   "version": "3.12.1"
  }
 },
 "nbformat": 4,
 "nbformat_minor": 4
}
