{
 "cells": [
  {
   "cell_type": "markdown",
   "metadata": {},
   "source": [
    "### Zoo by Constraint Sovling\n",
    "\n",
    "#### The Zoo in Killian Court\n",
    "\n",
    "(This is from an old MIT problem set.)\n",
    "\n",
    "MIT has decided to open a new zoo in Killian Court. They have obtained seven\n",
    "animals and built four enclosures. Because there are more animals than enclosures, some animals\n",
    "have to be in the same enclosures as others. However, the animals are very picky about who they live\n",
    "with. The MIT administration is having trouble assigning animals to enclosures, just as they often have\n",
    "trouble assigning students to residences. They have asked you to plan where\n",
    "each animal goes.\n",
    "\n",
    "The animals chosen are a LION, ANTELOPE, HYENA, EVIL LION, HORNBILL, MEERKAT, and BOAR.\n",
    "\n",
    "![Zoo](zoo.GIF)\n",
    "\n",
    "Each numbered area is a zoo enclosure. Multiple animals can go into the same enclosure, and not all\n",
    "enclosures have to be filled.\n",
    "\n",
    "Each animal has restrictions about where it can be placed.\n",
    "\n",
    "1. The LION and the EVIL LION hate each other, and do not want to be in the same enclosure.\n",
    "1. The MEERKAT and BOAR are best friends, and have to be in the same enclosure.\n",
    "1. The HYENA smells bad. Only the EVIL LION will share his enclosure.\n",
    "1. The EVIL LION wants to eat the MEERKAT, BOAR, and HORNBILL.\n",
    "1. The LION and the EVIL LION want to eat the ANTELOPE so badly that the ANTELOPE cannot be\n",
    "in either the same enclosure or in an enclosure adjacent to the LION or EVIL LION.\n",
    "1. The LION annoys the HORNBILL, so the HORNBILL doesn't want to be in the LION's enclosure.\n",
    "1. The LION is king, so he wants to be in enclosure 1."
   ]
  },
  {
   "cell_type": "code",
   "execution_count": 3,
   "metadata": {},
   "outputs": [],
   "source": [
    "from constraint import Problem"
   ]
  },
  {
   "cell_type": "code",
   "execution_count": 4,
   "metadata": {},
   "outputs": [],
   "source": [
    "## Write the function solve_zoo() which returns a list of all solutions to the problem,\n",
    "## where a solution is a dictionary as returned by problem.getSolution()\n",
    "\n",
    "## You must use these animal names\n",
    "animals = [\"Lion\", \"Antelope\", \"Hyena\", \"EvilLion\", \"Hornbill\", \"Meerkat\", \"Boar\"]\n",
    "\n",
    "def solve_zoo():\n",
    "    prob = Problem()\n",
    "    \n",
    "    for animal in animals:\n",
    "        prob.addVariable(animal, range(1, 5))\n",
    "    \n",
    "    # 1. The LION and EVIL LION cannot be in the same enclosure\n",
    "    prob.addConstraint(lambda l, el: l != el, (\"Lion\", \"EvilLion\"))\n",
    "    \n",
    "    # 2. MEERKAT and BOAR must be in the same enclosure\n",
    "    prob.addConstraint(lambda m, b: m == b, (\"Meerkat\", \"Boar\"))\n",
    "    \n",
    "    # 3. HYENA can only be with the EVIL LION or alone\n",
    "    def hyena_constraint(h, el, others):\n",
    "        if h == el:\n",
    "            return True\n",
    "        return all(h != x for x in others)\n",
    "    prob.addConstraint(lambda h, el, l, a, hb, m, b: hyena_constraint(h, el, [l, a, hb, m, b]), \n",
    "                       (\"Hyena\", \"EvilLion\", \"Lion\", \"Antelope\", \"Hornbill\", \"Meerkat\", \"Boar\"))\n",
    "    \n",
    "    # 4. EVIL LION cannot be with MEERKAT, BOAR, and HORNBILL (because it wants to eat them)\n",
    "    prob.addConstraint(lambda el, m, b, h: el != m and el != b and el != h, \n",
    "                       (\"EvilLion\", \"Meerkat\", \"Boar\", \"Hornbill\"))\n",
    "    \n",
    "    # 5. ANTELOPE cannot be in the same or adjacent enclosures as the LION or EVIL LION\n",
    "    def antelope_constraint(a, l, el):\n",
    "        return abs(a - l) > 1 and abs(a - el) > 1\n",
    "    prob.addConstraint(antelope_constraint, (\"Antelope\", \"Lion\", \"EvilLion\"))\n",
    "    \n",
    "    # 6. HORNBILL cannot be in the same enclosure as the LION\n",
    "    prob.addConstraint(lambda h, l: h != l, (\"Hornbill\", \"Lion\"))\n",
    "    \n",
    "    # 7. The LION must be in enclosure 1\n",
    "    prob.addConstraint(lambda l: l == 1, (\"Lion\",))\n",
    "    \n",
    "    return prob.getSolutions()"
   ]
  },
  {
   "cell_type": "code",
   "execution_count": 5,
   "metadata": {},
   "outputs": [
    {
     "name": "stdout",
     "output_type": "stream",
     "text": [
      "Zoo Solutions:\n",
      "Solution 1: {'Lion': 1, 'EvilLion': 2, 'Hornbill': 4, 'Boar': 4, 'Meerkat': 4, 'Antelope': 4, 'Hyena': 3}\n",
      "Solution 2: {'Lion': 1, 'EvilLion': 2, 'Hornbill': 4, 'Boar': 4, 'Meerkat': 4, 'Antelope': 4, 'Hyena': 2}\n",
      "Solution 3: {'Lion': 1, 'EvilLion': 2, 'Hornbill': 4, 'Boar': 3, 'Meerkat': 3, 'Antelope': 4, 'Hyena': 2}\n",
      "Solution 4: {'Lion': 1, 'EvilLion': 2, 'Hornbill': 4, 'Boar': 1, 'Meerkat': 1, 'Antelope': 4, 'Hyena': 3}\n",
      "Solution 5: {'Lion': 1, 'EvilLion': 2, 'Hornbill': 4, 'Boar': 1, 'Meerkat': 1, 'Antelope': 4, 'Hyena': 2}\n",
      "Solution 6: {'Lion': 1, 'EvilLion': 2, 'Hornbill': 3, 'Boar': 4, 'Meerkat': 4, 'Antelope': 4, 'Hyena': 2}\n",
      "Solution 7: {'Lion': 1, 'EvilLion': 2, 'Hornbill': 3, 'Boar': 3, 'Meerkat': 3, 'Antelope': 4, 'Hyena': 2}\n",
      "Solution 8: {'Lion': 1, 'EvilLion': 2, 'Hornbill': 3, 'Boar': 1, 'Meerkat': 1, 'Antelope': 4, 'Hyena': 2}\n",
      "\n",
      "Enclosures for each animal:\n",
      "Lion: [1]\n",
      "Antelope: [4]\n",
      "Hyena: [2, 3]\n",
      "EvilLion: [2]\n",
      "Hornbill: [3, 4]\n",
      "Meerkat: [1, 3, 4]\n",
      "Boar: [1, 3, 4]\n"
     ]
    }
   ],
   "source": [
    "## Write a function where_can_i_put(animal) which returns a list of enclosure numbers -- \n",
    "## all enclosures the animal can be put in, in any valid assignment.  The list returned\n",
    "## must be sorted, and must have no duplicates.  The function must throw an exception\n",
    "## if the input is not a valid animal name.\n",
    "\n",
    "## For example, \n",
    "##   print(where_can_i_put(\"Lion\"))\n",
    "##      [1]\n",
    "\n",
    "def where_can_i_put(animal):\n",
    "    if animal not in animals:\n",
    "        raise ValueError(\"Invalid animal name.\")\n",
    "    solutions = solve_zoo()\n",
    "    enclosures = sorted(set(solution[animal] for solution in solutions))\n",
    "    return enclosures\n",
    "\n",
    "# Example usage\n",
    "if __name__ == \"__main__\":\n",
    "    print(\"Zoo Solutions:\")\n",
    "    zoo_solutions = solve_zoo()\n",
    "    for i, solution in enumerate(zoo_solutions, start=1):\n",
    "        print(f\"Solution {i}: {solution}\")\n",
    "    \n",
    "    print(\"\\nEnclosures for each animal:\")\n",
    "    for animal in animals:\n",
    "        print(f\"{animal}: {where_can_i_put(animal)}\")"
   ]
  }
 ],
 "metadata": {
  "kernelspec": {
   "display_name": "Python 3 (ipykernel)",
   "language": "python",
   "name": "python3"
  },
  "language_info": {
   "codemirror_mode": {
    "name": "ipython",
    "version": 3
   },
   "file_extension": ".py",
   "mimetype": "text/x-python",
   "name": "python",
   "nbconvert_exporter": "python",
   "pygments_lexer": "ipython3",
   "version": "3.12.4"
  }
 },
 "nbformat": 4,
 "nbformat_minor": 4
}
